{
 "cells": [
  {
   "cell_type": "markdown",
   "id": "third-stack",
   "metadata": {
    "tags": []
   },
   "source": [
    "# Listes\n",
    "\n",
    "https://python.sdv.univ-paris-diderot.fr/04_listes/\n",
    "\n",
    "Les listes sont un type de variables plus complexes que les entiers, les *floats* ou les chaînes de caractères. Ce sont des « conteneurs », c'est-à-dire des variables qui peuvent contenir d'autres variables.\n",
    "\n",
    "## Définition"
   ]
  },
  {
   "cell_type": "code",
   "execution_count": null,
   "id": "quantitative-chester",
   "metadata": {},
   "outputs": [],
   "source": [
    "animaux = ['girafe', 'tigre', 'singe', 'souris']"
   ]
  },
  {
   "cell_type": "code",
   "execution_count": null,
   "id": "subsequent-lemon",
   "metadata": {},
   "outputs": [],
   "source": [
    "animaux"
   ]
  },
  {
   "cell_type": "code",
   "execution_count": null,
   "id": "brutal-greensboro",
   "metadata": {},
   "outputs": [],
   "source": [
    "print(animaux)"
   ]
  },
  {
   "cell_type": "markdown",
   "id": "designed-uruguay",
   "metadata": {},
   "source": [
    "Une liste peut contenir n'importe quels objets : entiers, *floats*, chaînes de caractères et même d'autres listes !"
   ]
  },
  {
   "cell_type": "code",
   "execution_count": null,
   "id": "united-suffering",
   "metadata": {},
   "outputs": [],
   "source": [
    "a = [\"ADN\", 3.14, 42]"
   ]
  },
  {
   "cell_type": "code",
   "execution_count": null,
   "id": "constitutional-mouse",
   "metadata": {},
   "outputs": [],
   "source": [
    "a"
   ]
  },
  {
   "cell_type": "markdown",
   "id": "right-joining",
   "metadata": {},
   "source": [
    "## Indices\n",
    "\n",
    "```\n",
    "         ['girafe', 'tigre', 'singe', 'souris']\n",
    "indice :        0        1        2         3\n",
    "```\n",
    "\n",
    "Comme beaucoup de langages de programmation, Python compte à partir de **0**, c'est-à-dire que le premier élément de la liste possède l'indice 0, le deuxième possède l'élément 1..."
   ]
  },
  {
   "cell_type": "code",
   "execution_count": null,
   "id": "simple-warehouse",
   "metadata": {},
   "outputs": [],
   "source": [
    "animaux[0]"
   ]
  },
  {
   "cell_type": "code",
   "execution_count": null,
   "id": "sealed-christian",
   "metadata": {},
   "outputs": [],
   "source": [
    "animaux[2]"
   ]
  },
  {
   "cell_type": "code",
   "execution_count": null,
   "id": "bacterial-loading",
   "metadata": {},
   "outputs": [],
   "source": [
    "animaux[4]"
   ]
  },
  {
   "cell_type": "markdown",
   "id": "5074e1f1-26e5-4d74-9cf5-9f303ac6ca49",
   "metadata": {},
   "source": [
    "Avec les indices, on peut accéder à un élément précis d'une liste, mais aussi le modifier :"
   ]
  },
  {
   "cell_type": "code",
   "execution_count": null,
   "id": "517db0f0-9daa-4b1a-bb6e-18d74c277c30",
   "metadata": {},
   "outputs": [],
   "source": [
    "animaux[1] = \"chat\""
   ]
  },
  {
   "cell_type": "code",
   "execution_count": null,
   "id": "fb6573cb-df00-4e65-a614-0e24be6f5bd8",
   "metadata": {},
   "outputs": [],
   "source": [
    "animaux"
   ]
  },
  {
   "cell_type": "markdown",
   "id": "spatial-repeat",
   "metadata": {},
   "source": [
    "## Opérations\n",
    "\n",
    "Uniquement `+` et `*`, comme les chaînes de caractères"
   ]
  },
  {
   "cell_type": "code",
   "execution_count": null,
   "id": "understood-rehabilitation",
   "metadata": {},
   "outputs": [],
   "source": [
    "ani1 = [\"girafe\", \"tigre\"]\n",
    "ani2 = [\"singe\", \"souris\"]"
   ]
  },
  {
   "cell_type": "code",
   "execution_count": null,
   "id": "external-format",
   "metadata": {},
   "outputs": [],
   "source": [
    "ani1 + ani2"
   ]
  },
  {
   "cell_type": "code",
   "execution_count": null,
   "id": "humanitarian-surgeon",
   "metadata": {},
   "outputs": [],
   "source": [
    "ani1 + [\"lion\"]"
   ]
  },
  {
   "cell_type": "markdown",
   "id": "0bcea969-8bc5-48cf-b79f-0eb585814fa5",
   "metadata": {},
   "source": [
    "L'addition de listes ne fonctionnent qu'entre deux listes. On ne peut pas additioner une liste et un nombre par exemple."
   ]
  },
  {
   "cell_type": "code",
   "execution_count": null,
   "id": "7869a24b-ae7e-4556-a2fe-b2d9f0acd4c2",
   "metadata": {},
   "outputs": [],
   "source": []
  },
  {
   "cell_type": "code",
   "execution_count": null,
   "id": "simplified-examination",
   "metadata": {},
   "outputs": [],
   "source": [
    "ani1 * 2"
   ]
  },
  {
   "cell_type": "code",
   "execution_count": null,
   "id": "compressed-orchestra",
   "metadata": {},
   "outputs": [],
   "source": [
    "ani1 * 3"
   ]
  },
  {
   "cell_type": "markdown",
   "id": "atomic-parent",
   "metadata": {},
   "source": [
    "La multiplication d'une liste avec un nombre n'est possible qu'avec un nombre entier positif."
   ]
  },
  {
   "cell_type": "code",
   "execution_count": null,
   "id": "massive-situation",
   "metadata": {},
   "outputs": [],
   "source": [
    "ani1 * 3.5"
   ]
  },
  {
   "cell_type": "code",
   "execution_count": null,
   "id": "a88e3d17-c01b-4383-aa7f-e973836d0e56",
   "metadata": {},
   "outputs": [],
   "source": []
  },
  {
   "cell_type": "markdown",
   "id": "respected-sucking",
   "metadata": {},
   "source": [
    "## Méthode `.append()`"
   ]
  },
  {
   "cell_type": "code",
   "execution_count": null,
   "id": "da719a14-7da1-4acf-954a-91378cd4ba1d",
   "metadata": {},
   "outputs": [],
   "source": [
    "animaux"
   ]
  },
  {
   "cell_type": "code",
   "execution_count": null,
   "id": "figured-medicaid",
   "metadata": {},
   "outputs": [],
   "source": [
    "animaux.append(\"lion\")"
   ]
  },
  {
   "cell_type": "code",
   "execution_count": null,
   "id": "adult-attitude",
   "metadata": {},
   "outputs": [],
   "source": [
    "animaux"
   ]
  },
  {
   "cell_type": "code",
   "execution_count": null,
   "id": "experienced-november",
   "metadata": {},
   "outputs": [],
   "source": [
    "animaux.append(14)"
   ]
  },
  {
   "cell_type": "code",
   "execution_count": null,
   "id": "distinguished-oasis",
   "metadata": {},
   "outputs": [],
   "source": [
    "animaux"
   ]
  },
  {
   "cell_type": "markdown",
   "id": "radical-master",
   "metadata": {},
   "source": [
    "## Indices négatifs\n",
    "\n",
    "```\n",
    "                 ['girafe', 'tigre', 'singe', 'souris']\n",
    "indice positif :        0        1        2         3\n",
    "indice négatif :       -4       -3       -2        -1\n",
    "```"
   ]
  },
  {
   "cell_type": "code",
   "execution_count": null,
   "id": "involved-google",
   "metadata": {},
   "outputs": [],
   "source": [
    "animaux = ['girafe','tigre','singe','souris']"
   ]
  },
  {
   "cell_type": "code",
   "execution_count": null,
   "id": "efficient-squad",
   "metadata": {},
   "outputs": [],
   "source": [
    "animaux[0]"
   ]
  },
  {
   "cell_type": "code",
   "execution_count": null,
   "id": "august-translator",
   "metadata": {},
   "outputs": [],
   "source": [
    "animaux[-4]"
   ]
  },
  {
   "cell_type": "code",
   "execution_count": null,
   "id": "sunset-daughter",
   "metadata": {},
   "outputs": [],
   "source": [
    "animaux[-1]"
   ]
  },
  {
   "cell_type": "code",
   "execution_count": null,
   "id": "charged-chrome",
   "metadata": {},
   "outputs": [],
   "source": [
    "animaux[-2]"
   ]
  },
  {
   "cell_type": "markdown",
   "id": "fundamental-judgment",
   "metadata": {},
   "source": [
    "## Tranches\n",
    "\n",
    "`liste[indice inférieur inclus: indice supérieur exclus]`\n",
    "\n",
    "```\n",
    "                 ['girafe', 'tigre', 'singe', 'souris']\n",
    "indice positif :        0        1        2         3\n",
    "indice négatif :       -4       -3       -2        -1\n",
    "```"
   ]
  },
  {
   "cell_type": "code",
   "execution_count": null,
   "id": "persistent-brown",
   "metadata": {},
   "outputs": [],
   "source": [
    "animaux[0:3]"
   ]
  },
  {
   "cell_type": "code",
   "execution_count": null,
   "id": "endangered-haven",
   "metadata": {},
   "outputs": [],
   "source": [
    "animaux[1:2]"
   ]
  },
  {
   "cell_type": "code",
   "execution_count": null,
   "id": "creative-nelson",
   "metadata": {},
   "outputs": [],
   "source": [
    "animaux[:2]"
   ]
  },
  {
   "cell_type": "code",
   "execution_count": null,
   "id": "headed-absorption",
   "metadata": {},
   "outputs": [],
   "source": [
    "animaux[2:]"
   ]
  },
  {
   "cell_type": "code",
   "execution_count": null,
   "id": "local-monthly",
   "metadata": {},
   "outputs": [],
   "source": [
    "animaux[1:-1]"
   ]
  },
  {
   "cell_type": "markdown",
   "id": "devoted-field",
   "metadata": {},
   "source": [
    "## Fonction `len()`\n",
    "\n",
    "Renvoie le nombre d'éléments d'une liste."
   ]
  },
  {
   "cell_type": "code",
   "execution_count": null,
   "id": "personalized-creature",
   "metadata": {},
   "outputs": [],
   "source": [
    "len(animaux)"
   ]
  },
  {
   "cell_type": "markdown",
   "id": "yellow-cyprus",
   "metadata": {},
   "source": [
    "## Fonctions `range()` et `list()`\n",
    "\n",
    "Pour créer une liste de nombre entiers."
   ]
  },
  {
   "cell_type": "code",
   "execution_count": null,
   "id": "conditional-disclaimer",
   "metadata": {},
   "outputs": [],
   "source": [
    "list(range(5))"
   ]
  },
  {
   "cell_type": "markdown",
   "id": "7be8f07a-cfa3-4bfb-9ba8-ed910c3d2e98",
   "metadata": {},
   "source": [
    "Avec une borne inférieure (incluse) et une bonne supérieure (excluse)"
   ]
  },
  {
   "cell_type": "code",
   "execution_count": null,
   "id": "confirmed-elephant",
   "metadata": {},
   "outputs": [],
   "source": [
    "list(range(2,5))"
   ]
  },
  {
   "cell_type": "markdown",
   "id": "af308907-25c4-43f3-b3b5-3df17be924f3",
   "metadata": {},
   "source": [
    "Avec une borne inférieure (incluse), une bonne supérieure (excluse) et un pas"
   ]
  },
  {
   "cell_type": "code",
   "execution_count": null,
   "id": "controversial-nursing",
   "metadata": {},
   "outputs": [],
   "source": [
    "list(range(2,10,3))"
   ]
  },
  {
   "cell_type": "markdown",
   "id": "difficult-emergency",
   "metadata": {},
   "source": [
    "## Listes de listes"
   ]
  },
  {
   "cell_type": "code",
   "execution_count": null,
   "id": "super-basket",
   "metadata": {},
   "outputs": [],
   "source": [
    "enclos1 = ['girafe', 4]\n",
    "enclos2 = ['tigre', 2]\n",
    "enclos3 = ['singe', 5]"
   ]
  },
  {
   "cell_type": "code",
   "execution_count": null,
   "id": "developed-pharmacology",
   "metadata": {},
   "outputs": [],
   "source": [
    "zoo = [enclos1, enclos2, enclos3]"
   ]
  },
  {
   "cell_type": "markdown",
   "id": "5612f939-87c5-4d84-85ce-1c1b77e83c3e",
   "metadata": {},
   "source": [
    "On obtient deux niveaux de listes imbriqués."
   ]
  },
  {
   "cell_type": "code",
   "execution_count": null,
   "id": "0904f707-3f9b-48ba-97dc-ecad796df664",
   "metadata": {},
   "outputs": [],
   "source": [
    "zoo"
   ]
  },
  {
   "cell_type": "markdown",
   "id": "8ec7b9f3-c967-420c-b116-2f65823a11b9",
   "metadata": {},
   "source": [
    "Les indices donnent accès à des éléments particuliers dans les différents niveaux de listes :"
   ]
  },
  {
   "cell_type": "code",
   "execution_count": null,
   "id": "incoming-headline",
   "metadata": {},
   "outputs": [],
   "source": [
    "zoo[1]"
   ]
  },
  {
   "cell_type": "code",
   "execution_count": null,
   "id": "dense-friendly",
   "metadata": {},
   "outputs": [],
   "source": [
    "zoo[1][0]"
   ]
  },
  {
   "cell_type": "code",
   "execution_count": null,
   "id": "considerable-cable",
   "metadata": {},
   "outputs": [],
   "source": [
    "zoo[0][1]"
   ]
  },
  {
   "cell_type": "code",
   "execution_count": null,
   "id": "refined-mistress",
   "metadata": {},
   "outputs": [],
   "source": [
    "zoo[-1][-2]"
   ]
  },
  {
   "cell_type": "markdown",
   "id": "industrial-milwaukee",
   "metadata": {},
   "source": [
    "# Retour sur les chaînes de caractères\n",
    "\n",
    "https://python.sdv.univ-paris-diderot.fr/10_plus_sur_les_chaines_de_caracteres/\n",
    "\n",
    "Les chaînes de caractères sont des listes (de caractères), mais non modifiables.   \n",
    "Certaines propriétés des listes leurs sont donc applicables.\n"
   ]
  },
  {
   "cell_type": "code",
   "execution_count": null,
   "id": "spoken-possible",
   "metadata": {},
   "outputs": [],
   "source": [
    "texte = \"Salut Python\""
   ]
  },
  {
   "cell_type": "code",
   "execution_count": null,
   "id": "grateful-color",
   "metadata": {},
   "outputs": [],
   "source": [
    "texte[0]"
   ]
  },
  {
   "cell_type": "code",
   "execution_count": null,
   "id": "authorized-iraqi",
   "metadata": {},
   "outputs": [],
   "source": [
    "texte[-1]"
   ]
  },
  {
   "cell_type": "code",
   "execution_count": null,
   "id": "certain-rochester",
   "metadata": {},
   "outputs": [],
   "source": [
    "texte[6:]"
   ]
  },
  {
   "cell_type": "code",
   "execution_count": null,
   "id": "a4fe3955-3876-4351-97a1-1de7cb3780c6",
   "metadata": {},
   "outputs": [],
   "source": []
  },
  {
   "cell_type": "markdown",
   "id": "relevant-support",
   "metadata": {},
   "source": [
    "Mais attention, les chaînes de caractères ne sont pas modifiables :"
   ]
  },
  {
   "cell_type": "code",
   "execution_count": null,
   "id": "arabic-retailer",
   "metadata": {},
   "outputs": [],
   "source": [
    "texte[0] = \"s\""
   ]
  },
  {
   "cell_type": "code",
   "execution_count": null,
   "id": "boring-detective",
   "metadata": {},
   "outputs": [],
   "source": [
    "texte.append(\"!\")"
   ]
  },
  {
   "cell_type": "markdown",
   "id": "fancy-express",
   "metadata": {},
   "source": [
    "# Exercices"
   ]
  },
  {
   "cell_type": "markdown",
   "id": "0df5be1a-5ca8-4dcf-9846-1d337e78c5f8",
   "metadata": {},
   "source": [
    "## Extraire les premières et dernières bases d'une séquence d'ADN\n",
    "\n",
    "Soit la séquence d'ADN suivante :"
   ]
  },
  {
   "cell_type": "code",
   "execution_count": null,
   "id": "4cc65b89-e6d0-4455-b4e3-4c60c0fce055",
   "metadata": {
    "tags": []
   },
   "outputs": [],
   "source": [
    "seq = \"AATCCGTAGGCTAGA\""
   ]
  },
  {
   "cell_type": "markdown",
   "id": "4ad14bc8-50d9-4690-85a3-c71bd8ac2ca7",
   "metadata": {},
   "source": [
    "Affichez les 3 premières bases de la chaîne de caractères `seq` :"
   ]
  },
  {
   "cell_type": "code",
   "execution_count": null,
   "id": "b10e9bf4-33f2-47db-8325-31d481e8980c",
   "metadata": {},
   "outputs": [],
   "source": []
  },
  {
   "cell_type": "markdown",
   "id": "cb450434-ca73-4666-b672-4287a310d082",
   "metadata": {},
   "source": [
    "Affichez les 3 dernières bases de la chaîne de caractères `seq` :"
   ]
  },
  {
   "cell_type": "code",
   "execution_count": null,
   "id": "7a508b07-38f7-4a71-a2fd-5e547be02c57",
   "metadata": {},
   "outputs": [],
   "source": []
  },
  {
   "cell_type": "markdown",
   "id": "e8ecd083-267c-4258-b1aa-01c17e7e7b67",
   "metadata": {},
   "source": [
    "## Afficher les jours de la semaine\n",
    "\n",
    "Constituez une liste `semaine` contenant les 7 jours de la semaine."
   ]
  },
  {
   "cell_type": "code",
   "execution_count": null,
   "id": "absent-gentleman",
   "metadata": {},
   "outputs": [],
   "source": [
    "semaine = [\"lundi\", \"mardi\", \"mercredi\", \"jeudi\", \"vendredi\", \"samedi\", \"dimanche\"]"
   ]
  },
  {
   "cell_type": "markdown",
   "id": "obvious-anger",
   "metadata": {},
   "source": [
    "- À partir de cette liste, comment affichez-vous seulement les 5 premiers jours de la semaine d'une part, et ceux du week-end d'autre part ? Utilisez pour cela l'indiçage.\n",
    "- Cherchez un autre moyen pour arriver au même résultat (en utilisant un autre indiçage)."
   ]
  },
  {
   "cell_type": "code",
   "execution_count": null,
   "id": "disciplinary-colleague",
   "metadata": {},
   "outputs": [],
   "source": []
  },
  {
   "cell_type": "code",
   "execution_count": null,
   "id": "overhead-toyota",
   "metadata": {},
   "outputs": [],
   "source": []
  },
  {
   "cell_type": "code",
   "execution_count": null,
   "id": "alert-examination",
   "metadata": {},
   "outputs": [],
   "source": []
  },
  {
   "cell_type": "code",
   "execution_count": null,
   "id": "material-fields",
   "metadata": {},
   "outputs": [],
   "source": []
  }
 ],
 "metadata": {
  "kernelspec": {
   "display_name": "Python 3 (ipykernel)",
   "language": "python",
   "name": "python3"
  },
  "language_info": {
   "codemirror_mode": {
    "name": "ipython",
    "version": 3
   },
   "file_extension": ".py",
   "mimetype": "text/x-python",
   "name": "python",
   "nbconvert_exporter": "python",
   "pygments_lexer": "ipython3",
   "version": "3.9.16"
  },
  "toc-showmarkdowntxt": false
 },
 "nbformat": 4,
 "nbformat_minor": 5
}
