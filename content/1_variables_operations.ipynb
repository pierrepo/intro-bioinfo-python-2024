{
 "cells": [
  {
   "cell_type": "markdown",
   "id": "amino-advisory",
   "metadata": {
    "tags": []
   },
   "source": [
    "# Variables\n",
    "\n",
    "https://python.sdv.univ-paris-diderot.fr/02_variables/\n",
    "\n",
    "## Variables dites « simples ».\n",
    "\n",
    "Python pratique le *duck typing*, c'est-à-dire qu'il « devine » le type d'une variable automatiquement.\n",
    "\n",
    "### Entiers"
   ]
  },
  {
   "cell_type": "code",
   "execution_count": null,
   "id": "coordinate-microwave",
   "metadata": {
    "tags": []
   },
   "outputs": [],
   "source": [
    "a = 10"
   ]
  },
  {
   "cell_type": "markdown",
   "id": "provincial-wages",
   "metadata": {
    "tags": []
   },
   "source": [
    "Le simple fait d'entrer le nom d'une variable seule dans une cellule, ou à la fin d'une cellule, affiche le contenu de cette variable."
   ]
  },
  {
   "cell_type": "code",
   "execution_count": null,
   "id": "julian-papua",
   "metadata": {
    "tags": []
   },
   "outputs": [],
   "source": [
    "a"
   ]
  },
  {
   "cell_type": "code",
   "execution_count": null,
   "id": "special-poverty",
   "metadata": {
    "tags": []
   },
   "outputs": [],
   "source": [
    "b = -3\n",
    "b"
   ]
  },
  {
   "cell_type": "code",
   "execution_count": null,
   "id": "liked-singles",
   "metadata": {},
   "outputs": [],
   "source": []
  },
  {
   "cell_type": "markdown",
   "id": "ready-stanford",
   "metadata": {},
   "source": [
    "### *Floats* (réels)"
   ]
  },
  {
   "cell_type": "code",
   "execution_count": null,
   "id": "environmental-romance",
   "metadata": {},
   "outputs": [],
   "source": [
    "c = 3.14"
   ]
  },
  {
   "cell_type": "code",
   "execution_count": null,
   "id": "boring-enhancement",
   "metadata": {},
   "outputs": [],
   "source": [
    "c"
   ]
  },
  {
   "cell_type": "markdown",
   "id": "finnish-torture",
   "metadata": {},
   "source": [
    "### Chaînes de caractères (*string*, *str*) "
   ]
  },
  {
   "cell_type": "code",
   "execution_count": null,
   "id": "democratic-mouse",
   "metadata": {},
   "outputs": [],
   "source": [
    "seq1 = 'CGAT'"
   ]
  },
  {
   "cell_type": "code",
   "execution_count": null,
   "id": "metropolitan-graphic",
   "metadata": {},
   "outputs": [],
   "source": [
    "seq1"
   ]
  },
  {
   "cell_type": "code",
   "execution_count": null,
   "id": "great-mirror",
   "metadata": {},
   "outputs": [],
   "source": [
    "seq2 = \"ATCGCG\""
   ]
  },
  {
   "cell_type": "code",
   "execution_count": null,
   "id": "alike-defensive",
   "metadata": {},
   "outputs": [],
   "source": [
    "seq2"
   ]
  },
  {
   "cell_type": "markdown",
   "id": "executive-artwork",
   "metadata": {},
   "source": [
    "Fonction `len()` : renvoie la taille d'une chaîne de caractères (le nombre de caractères)"
   ]
  },
  {
   "cell_type": "code",
   "execution_count": null,
   "id": "medium-fundamental",
   "metadata": {},
   "outputs": [],
   "source": [
    "len(seq1)"
   ]
  },
  {
   "cell_type": "code",
   "execution_count": null,
   "id": "hungry-removal",
   "metadata": {},
   "outputs": [],
   "source": [
    "len(seq2)"
   ]
  },
  {
   "cell_type": "markdown",
   "id": "familiar-dublin",
   "metadata": {},
   "source": [
    "## Nommage des variables\n",
    "\n",
    "Le nom d'une variable peut être composé des caractères suivants :\n",
    "```\n",
    "abcdefghijklmnopqrstuvwxyz\n",
    "ABCDEFGHIJKLMNOPQRSTUVWXYZ\n",
    "0123456789\n",
    "_\n",
    "```\n",
    "\n",
    "Les noms de variables débutent par une lettre. Pensez à leur donner des noms **explicites**."
   ]
  },
  {
   "cell_type": "code",
   "execution_count": null,
   "id": "removed-graph",
   "metadata": {},
   "outputs": [],
   "source": [
    "bases = \"ATCG\""
   ]
  },
  {
   "cell_type": "code",
   "execution_count": null,
   "id": "proved-conversation",
   "metadata": {},
   "outputs": [],
   "source": [
    "taille_sequence = 24"
   ]
  },
  {
   "cell_type": "code",
   "execution_count": null,
   "id": "greater-correlation",
   "metadata": {},
   "outputs": [],
   "source": [
    "moyenne_S2 = 16"
   ]
  },
  {
   "cell_type": "markdown",
   "id": "incorporate-jonathan",
   "metadata": {},
   "source": [
    "# Opérations\n",
    "\n",
    "## Types arithmétiques\n",
    "\n",
    "addition : `+`"
   ]
  },
  {
   "cell_type": "code",
   "execution_count": null,
   "id": "reasonable-canada",
   "metadata": {
    "tags": []
   },
   "outputs": [],
   "source": [
    "a + b"
   ]
  },
  {
   "cell_type": "code",
   "execution_count": null,
   "id": "a38cc291-769f-4768-a2b5-faeee0f601d5",
   "metadata": {},
   "outputs": [],
   "source": [
    "a + 3.5"
   ]
  },
  {
   "cell_type": "markdown",
   "id": "8471cb2b-00b6-4115-97a9-3195a870db60",
   "metadata": {},
   "source": [
    "soustraction : `-`"
   ]
  },
  {
   "cell_type": "code",
   "execution_count": null,
   "id": "e79b3565-9239-4276-9424-b309894d1d56",
   "metadata": {},
   "outputs": [],
   "source": [
    "a - 3.5"
   ]
  },
  {
   "cell_type": "markdown",
   "id": "d3549d70-185b-4c4a-8749-1e0e8abcc80f",
   "metadata": {},
   "source": [
    "multiplication : `*`"
   ]
  },
  {
   "cell_type": "code",
   "execution_count": null,
   "id": "august-austin",
   "metadata": {
    "tags": []
   },
   "outputs": [],
   "source": [
    "7 * 2"
   ]
  },
  {
   "cell_type": "markdown",
   "id": "09ce48c2-cfc1-482a-95c8-15daf6caf8e8",
   "metadata": {},
   "source": [
    "division : `/`"
   ]
  },
  {
   "cell_type": "code",
   "execution_count": null,
   "id": "rural-feeling",
   "metadata": {
    "tags": []
   },
   "outputs": [],
   "source": [
    "7 / 2"
   ]
  },
  {
   "cell_type": "markdown",
   "id": "465d72ea-6631-4c99-9de3-c4a377b2b63b",
   "metadata": {},
   "source": [
    "puissance : `**`"
   ]
  },
  {
   "cell_type": "code",
   "execution_count": null,
   "id": "controversial-testimony",
   "metadata": {
    "tags": []
   },
   "outputs": [],
   "source": [
    "7 ** 2"
   ]
  },
  {
   "cell_type": "markdown",
   "id": "393f4aec-439b-4203-ad31-0e5647c19095",
   "metadata": {},
   "source": [
    "division entière : `//`"
   ]
  },
  {
   "cell_type": "code",
   "execution_count": null,
   "id": "challenging-tribute",
   "metadata": {
    "tags": []
   },
   "outputs": [],
   "source": [
    "7 // 2"
   ]
  },
  {
   "cell_type": "markdown",
   "id": "b2b72237-c7ef-4b7e-b496-aa26c2eb341d",
   "metadata": {},
   "source": [
    "reste de la division entière : `%` (modulo)"
   ]
  },
  {
   "cell_type": "code",
   "execution_count": null,
   "id": "administrative-quest",
   "metadata": {
    "tags": []
   },
   "outputs": [],
   "source": [
    "7 % 2"
   ]
  },
  {
   "cell_type": "markdown",
   "id": "revised-charles",
   "metadata": {},
   "source": [
    "## Chaînes de caractères\n",
    "\n",
    "concaténation : `+`"
   ]
  },
  {
   "cell_type": "code",
   "execution_count": null,
   "id": "usual-tattoo",
   "metadata": {
    "tags": []
   },
   "outputs": [],
   "source": [
    "seq1 + seq2"
   ]
  },
  {
   "cell_type": "markdown",
   "id": "b6e71bc8-6a8a-433b-9ae5-e631bf2c061c",
   "metadata": {},
   "source": [
    "duplication : `*`"
   ]
  },
  {
   "cell_type": "code",
   "execution_count": null,
   "id": "selected-hormone",
   "metadata": {
    "tags": []
   },
   "outputs": [],
   "source": [
    "seq1 * 2"
   ]
  },
  {
   "cell_type": "markdown",
   "id": "fluid-withdrawal",
   "metadata": {},
   "source": [
    "La multiplication d'une chaîne de caractères avec un nombre n'est possible qu'avec un nombre entier et positif."
   ]
  },
  {
   "cell_type": "code",
   "execution_count": null,
   "id": "veterinary-cooking",
   "metadata": {},
   "outputs": [],
   "source": [
    "seq2 * 3.5"
   ]
  },
  {
   "cell_type": "code",
   "execution_count": null,
   "id": "portable-albania",
   "metadata": {},
   "outputs": [],
   "source": []
  },
  {
   "cell_type": "code",
   "execution_count": null,
   "id": "measured-texas",
   "metadata": {},
   "outputs": [],
   "source": []
  },
  {
   "cell_type": "code",
   "execution_count": null,
   "id": "surprising-landing",
   "metadata": {},
   "outputs": [],
   "source": []
  },
  {
   "cell_type": "markdown",
   "id": "sustainable-camera",
   "metadata": {},
   "source": [
    "# Conversion de types\n",
    "\n",
    "Passage d'un type à l'autre.\n",
    "\n",
    "Fonctions `int()`, `float()` et `str()`"
   ]
  },
  {
   "cell_type": "code",
   "execution_count": null,
   "id": "yellow-slave",
   "metadata": {},
   "outputs": [],
   "source": [
    "int(3.14)"
   ]
  },
  {
   "cell_type": "code",
   "execution_count": null,
   "id": "exempt-breach",
   "metadata": {},
   "outputs": [],
   "source": [
    "int(\"-45\")"
   ]
  },
  {
   "cell_type": "markdown",
   "id": "beginning-cross",
   "metadata": {},
   "source": [
    "Les conversions entre types doivent avoir un sens."
   ]
  },
  {
   "cell_type": "code",
   "execution_count": null,
   "id": "handy-arbitration",
   "metadata": {},
   "outputs": [],
   "source": [
    "int(\"-45a\")"
   ]
  },
  {
   "cell_type": "code",
   "execution_count": null,
   "id": "changing-investor",
   "metadata": {},
   "outputs": [],
   "source": [
    "float(5)"
   ]
  },
  {
   "cell_type": "code",
   "execution_count": null,
   "id": "ethical-objective",
   "metadata": {},
   "outputs": [],
   "source": [
    "float(\"3.14\")"
   ]
  },
  {
   "cell_type": "code",
   "execution_count": null,
   "id": "2a8d4dbf-e221-40b1-b05e-e51e8e2402cd",
   "metadata": {},
   "outputs": [],
   "source": [
    "float(\"3,14\")"
   ]
  },
  {
   "cell_type": "code",
   "execution_count": null,
   "id": "spatial-gasoline",
   "metadata": {},
   "outputs": [],
   "source": [
    "str(42)"
   ]
  },
  {
   "cell_type": "code",
   "execution_count": null,
   "id": "moved-tractor",
   "metadata": {},
   "outputs": [],
   "source": [
    "str(3.14)"
   ]
  },
  {
   "cell_type": "markdown",
   "id": "adjusted-proposal",
   "metadata": {},
   "source": [
    "# Exercices\n",
    "\n",
    "Sans les exécuter au préalable, essayez de prédire ce que renvoient les instructions suivantes ?"
   ]
  },
  {
   "cell_type": "code",
   "execution_count": null,
   "id": "geological-original",
   "metadata": {},
   "outputs": [],
   "source": [
    "str(4) * int(\"3\")"
   ]
  },
  {
   "cell_type": "code",
   "execution_count": null,
   "id": "beginning-snapshot",
   "metadata": {},
   "outputs": [],
   "source": [
    "int(\"3\") + float(\"3.2\")"
   ]
  },
  {
   "cell_type": "code",
   "execution_count": null,
   "id": "polish-correction",
   "metadata": {},
   "outputs": [],
   "source": [
    "str(3) * float(\"3.2\")"
   ]
  },
  {
   "cell_type": "code",
   "execution_count": null,
   "id": "interested-opening",
   "metadata": {},
   "outputs": [],
   "source": [
    "str(3/4) * 2"
   ]
  },
  {
   "cell_type": "markdown",
   "id": "enormous-difference",
   "metadata": {},
   "source": [
    "Générez une chaîne de caractères représentant un brin d'ADN poly-A (c'est-à-dire qui ne contient que des bases A) de 20 bases de longueur, sans taper littéralement toutes les bases."
   ]
  },
  {
   "cell_type": "code",
   "execution_count": null,
   "id": "chemical-privilege",
   "metadata": {},
   "outputs": [],
   "source": []
  },
  {
   "cell_type": "markdown",
   "id": "returning-democracy",
   "metadata": {},
   "source": [
    "Sur le modèle de l'exercice précédent, générez en une ligne de code un brin d'ADN poly-A (AAAA...) de 20 bases suivi d'un poly-GC régulier (GCGCGC...) de 30 bases."
   ]
  },
  {
   "cell_type": "code",
   "execution_count": null,
   "id": "olive-cooler",
   "metadata": {},
   "outputs": [],
   "source": []
  },
  {
   "cell_type": "markdown",
   "id": "aef21b66-b5c1-4374-8428-ef98d738fc43",
   "metadata": {
    "execution": {
     "iopub.execute_input": "2023-03-27T11:00:54.894033Z",
     "iopub.status.busy": "2023-03-27T11:00:54.893509Z",
     "iopub.status.idle": "2023-03-27T11:00:54.906517Z",
     "shell.execute_reply": "2023-03-27T11:00:54.905541Z",
     "shell.execute_reply.started": "2023-03-27T11:00:54.893984Z"
    },
    "tags": []
   },
   "source": [
    "Vérfiez que vous avez obtenu la bonne taille de séquence avec la fonction `len()`"
   ]
  },
  {
   "cell_type": "code",
   "execution_count": null,
   "id": "bb1f9172-00a2-4d05-a46e-69f5dfb43738",
   "metadata": {},
   "outputs": [],
   "source": []
  }
 ],
 "metadata": {
  "kernelspec": {
   "display_name": "Python 3 (ipykernel)",
   "language": "python",
   "name": "python3"
  },
  "language_info": {
   "codemirror_mode": {
    "name": "ipython",
    "version": 3
   },
   "file_extension": ".py",
   "mimetype": "text/x-python",
   "name": "python",
   "nbconvert_exporter": "python",
   "pygments_lexer": "ipython3",
   "version": "3.9.16"
  },
  "toc-autonumbering": false,
  "toc-showtags": false
 },
 "nbformat": 4,
 "nbformat_minor": 5
}
