{
  "metadata": {
    "kernelspec": {
      "name": "python",
      "display_name": "Python (Pyodide)",
      "language": "python"
    },
    "language_info": {
      "codemirror_mode": {
        "name": "python",
        "version": 3
      },
      "file_extension": ".py",
      "mimetype": "text/x-python",
      "name": "python",
      "nbconvert_exporter": "python",
      "pygments_lexer": "ipython3",
      "version": "3.8"
    }
  },
  "nbformat_minor": 5,
  "nbformat": 4,
  "cells": [
    {
      "id": "removable-beauty",
      "cell_type": "markdown",
      "source": "# TP 2\n\n*Renommez ce notebook en y ajoutant vos initiales (par exemple `TP2_PP.ipynb`), **sans espace**, et pensez à le sauvegarder régulièrement !*\n\n***N’ajoutez pas et ne supprimez aucune cellule.***\n\n*Renseignez ci-dessous vos prénoms et noms (double-cliquez pour éditer la cellule).*\n\n---\n\nPrénom : \n\nNom : \n\n---",
      "metadata": {}
    },
    {
      "id": "nearby-crisis",
      "cell_type": "markdown",
      "source": "## Partie 1 : Calcul du %GC pour le génome du Sars-Cov-2\n\nLe génome de référence du Sars-Cov-2 est disposnible sous l'identifiant [NC_045512](https://www.ncbi.nlm.nih.gov/nuccore/NC_045512) sur le site du NCBI. Il est constitué de 29903 bases.\n\nLe fichier `sars-cov-2.txt` contient le génome de ce virus. Toute la séquence se trouve sur une seule ligne.\n\nPour :\n\n- lire ce fichier, \n- extraire la séquence du génome de Sars-Cov-2\n- et la stocker dans la variable `sequence`, \n\nvous pouvez utiliser le code suivant :",
      "metadata": {}
    },
    {
      "id": "returning-crime",
      "cell_type": "code",
      "source": "with open(\"sars-cov-2.txt\", \"r\") as txt_file:\n    sequence = txt_file.read()",
      "metadata": {},
      "outputs": [],
      "execution_count": null
    },
    {
      "id": "quiet-nursing",
      "cell_type": "markdown",
      "source": "Affichez la taille de la séquence lue dans la variable `sequence` :",
      "metadata": {}
    },
    {
      "id": "fluid-alert",
      "cell_type": "code",
      "source": "",
      "metadata": {},
      "outputs": [],
      "execution_count": null
    },
    {
      "id": "otherwise-colon",
      "cell_type": "markdown",
      "source": "Affichez les 10 premières bases de la séquence :\n\n(*Vous devriez obtenir `ATTAAAGGTT`*)",
      "metadata": {}
    },
    {
      "id": "muslim-hurricane",
      "cell_type": "code",
      "source": "",
      "metadata": {},
      "outputs": [],
      "execution_count": null
    },
    {
      "id": "different-cooper",
      "cell_type": "markdown",
      "source": "Affichez les 10 dernières bases de la séquence :\n\n(*Vous devriez obtenir `AAAAAAAAAA`*)",
      "metadata": {}
    },
    {
      "id": "motivated-allah",
      "cell_type": "code",
      "source": "",
      "metadata": {},
      "outputs": [],
      "execution_count": null
    },
    {
      "id": "continental-journal",
      "cell_type": "markdown",
      "source": "Réutilisez le code de la partie 3 du TP1, pour calculer le %GC de cette sequence :",
      "metadata": {}
    },
    {
      "id": "crazy-dress",
      "cell_type": "code",
      "source": "",
      "metadata": {},
      "outputs": [],
      "execution_count": null
    },
    {
      "id": "taken-asthma",
      "cell_type": "markdown",
      "source": "Affichez la valeur du %GC avec **deux chiffres** après la virgule, sous la forme :\n\n```\nLe pourcentage de GC est : xx.xx\n```\n\n(*Respectez scrupuleusement le format d'affichage demandé.*)",
      "metadata": {}
    },
    {
      "id": "understood-clerk",
      "cell_type": "code",
      "source": "",
      "metadata": {},
      "outputs": [],
      "execution_count": null
    },
    {
      "id": "disciplinary-right",
      "cell_type": "markdown",
      "source": "## Partie 2 : Calcul du %GC pour le génome du Sars-Cov-2 à partir d'un fichier au format FASTA\n\n### Format FASTA\n\nEn biologie, les séquences ne se trouvent jamais sous la forme d'une séquence par ligne.\n\nUn format classique pour partager des séquences est le format FASTA :\n```\n>en-tête\nséquence avec un nombre maximum de caractères par ligne\nséquence avec un nombre maximum de caractères par ligne\nséquence avec un nombre maximum de caractères par ligne\nséquence avec un nombre maximum de caractères par ligne\nséquence avec un nombre max\n```\n\nDans le cas du génome du Sars-cov-2 stocké au format FASTA dans le fichier `sars-cov-2.fasta`, les premières lignes sont :\n\n```\n>NC_045512.2 Severe acute respiratory syndrome coronavirus 2 isolate Wuhan-Hu-1, complete genome\nATTAAAGGTTTATACCTTCCCAGGTAACAAACCAACCAACTTTCGATCTCTTGTAGATCTGTTCTCTAAA\nCGAACTTTAAAATCTGTGTGGCTGTCACTCGGCTGCATGCTTAGTGCACTCACGCAGTATAATTAATAAC\nTAATTACTGTCGTTGACAGGACACGAGTAACTCGTCTATCTTCTGCAGGCTGCTTACGGTTTCGTCCGTG\nTTGCAGCCGATCATCAGCACATCTAGGTTTCGTCCGGGTGTGACCGAAAGGTAAGATGGAGAGCCTTGTC\nCCTGGTTTCAACGAGAAAACACACGTCCAACTCAGTTTGCCTGTTTTACAGGTTCGCGACGTGCTCGTAC\nGTGGCTTTGGAGACTCCGTGGAGGAGGTCTTATCAGAGGCACGTCAACATCTTAAAGATGGCACTTGTGG\nCTTAGTAGAAGTTGAAAAAGGCGTTTTGCCTCAACTTGAACAGCCCTATGTGTTCATCAAACGTTCGGAT\n```\n\nSachant que :\n\n- la séquence du Sars-cov-2 contient 29903 bases\n- et que le `sars-cov-2.fasta` contient 70 bases par lignes,\n\ndéterminez avec des variables et des opérateurs Python combien de lignes devrait contenir le fichier `sars-cov-2.fasta` de la séquence du génome du Sars-cov-2 au format FASTA. N'oubliez pas de compter la ligne d'entête.\n\n(*Pour répondre à cette question, ne parcourez pas le fichier avec Python.*)\n\nIndiquez et justifiez votre réponse dans les deux cellules ci-dessous :",
      "metadata": {}
    },
    {
      "id": "funded-times",
      "cell_type": "code",
      "source": "# Indiquez dans cette cellule votre calcul avec du code Python.\n",
      "metadata": {
        "execution": {
          "iopub.execute_input": "2024-04-17T13:11:26.616004Z",
          "iopub.status.busy": "2024-04-17T13:11:26.615279Z",
          "iopub.status.idle": "2024-04-17T13:11:26.623371Z",
          "shell.execute_reply": "2024-04-17T13:11:26.622123Z",
          "shell.execute_reply.started": "2024-04-17T13:11:26.615939Z"
        }
      },
      "outputs": [],
      "execution_count": 1
    },
    {
      "id": "cfb4c17a-ad4c-4a9c-b8bd-1aa3a37cdf77",
      "cell_type": "markdown",
      "source": "*Double-cliquez sur cette cellule pour justifier ici votre réponse.* ",
      "metadata": {}
    },
    {
      "id": "atomic-cooper",
      "cell_type": "markdown",
      "source": "Ouvrez maintenant le fichier `sars-cov-2.fasta` en double-cliquant sur le nom du fichier dans le navigateur de fichiers à gauche.\n\nVérifiez que le nombre de lignes que vous avez calculé correspond bien au nombre de lignes dans le fichier.\n\nRemarque : le numéro de la ligne est affiché en gris à gauche de chaque ligne.",
      "metadata": {}
    },
    {
      "id": "thousand-webcam",
      "cell_type": "markdown",
      "source": "*Double-cliquez sur cette cellule pour discuter ici votre analyse\net comparer le nombre de lignes du fichier obtenu avec Python et celui obtenu en ouvrant le fichier.*\n\n",
      "metadata": {}
    },
    {
      "id": "general-bishop",
      "cell_type": "markdown",
      "source": "### Lecture d'un séquence au format FASTA\n\nPour lire une séquence au format FASTA, il faut se souvenir :\n- que la première ligne contient l'entête (l'identifiant + le nom + d'autres informations) ;\n- que la séquence est répartie sur les lignes suivantes.\n\nVoici un exemple de code qui vous pouvez utiliser pour lire la séquence depuis un fichier au format FASTA :",
      "metadata": {}
    },
    {
      "id": "blocked-stuart",
      "cell_type": "code",
      "source": "with open(\"sars-cov-2.fasta\", \"r\") as fasta_file:\n    header = \"\"\n    sequence = \"\"\n    for line in fasta_file:\n        if line.startswith(\">\"):\n            header = line.strip()\n        else:\n            sequence += line.strip()",
      "metadata": {},
      "outputs": [],
      "execution_count": null
    },
    {
      "id": "dried-telescope",
      "cell_type": "markdown",
      "source": "L'entête est stocké dans la variable `header`. La séquence est stockée dans la variable `sequence`.\n\nPrenez quelques minutes pour comprendre le fonctionnement de ce code Python.\n\nAffichez ensuite l'entête :",
      "metadata": {}
    },
    {
      "id": "stylish-breach",
      "cell_type": "code",
      "source": "",
      "metadata": {},
      "outputs": [],
      "execution_count": null
    },
    {
      "id": "understood-document",
      "cell_type": "markdown",
      "source": "Affichez la taille de la séquence :",
      "metadata": {}
    },
    {
      "id": "conservative-theorem",
      "cell_type": "code",
      "source": "",
      "metadata": {},
      "outputs": [],
      "execution_count": null
    },
    {
      "id": "narrow-swiss",
      "cell_type": "markdown",
      "source": "Affichez les 10 premières bases de la séquence :\n\n(*Vous devriez obtenir `ATTAAAGGTT`*)",
      "metadata": {}
    },
    {
      "id": "likely-seven",
      "cell_type": "code",
      "source": "",
      "metadata": {},
      "outputs": [],
      "execution_count": null
    },
    {
      "id": "smart-visibility",
      "cell_type": "markdown",
      "source": "Affichez les 10 dernières bases de la séquence :\n\n(*Vous devriez obtenir `AAAAAAAAAA`*)",
      "metadata": {}
    },
    {
      "id": "combined-essence",
      "cell_type": "code",
      "source": "",
      "metadata": {},
      "outputs": [],
      "execution_count": null
    },
    {
      "id": "adverse-lyric",
      "cell_type": "markdown",
      "source": "Réutilisez le code de la partie 1 de ce TP, pour calculer le %GC de cette sequence :",
      "metadata": {}
    },
    {
      "id": "comfortable-discrimination",
      "cell_type": "code",
      "source": "",
      "metadata": {},
      "outputs": [],
      "execution_count": null
    },
    {
      "id": "buried-spell",
      "cell_type": "markdown",
      "source": "Affichez la valeur du %GC avec deux chiffres après la virgule, sous la forme :\n```\nLe pourcentage de GC est : xx.xx\n```\n\n(*Respectez scrupuleusement le format d'affichage demandé.*)",
      "metadata": {}
    },
    {
      "id": "lined-finnish",
      "cell_type": "code",
      "source": "",
      "metadata": {},
      "outputs": [],
      "execution_count": null
    },
    {
      "id": "0c3507e2-c0c6-4608-b972-75618ffa6350",
      "cell_type": "markdown",
      "source": "Obtenez-vous le même résultat que dans la partie 1 ?",
      "metadata": {}
    },
    {
      "id": "exclusive-packaging",
      "cell_type": "markdown",
      "source": "*Double-cliquez sur cette cellule pour justifier ici votre réponse.* \n\n",
      "metadata": {}
    },
    {
      "id": "looking-scheme",
      "cell_type": "markdown",
      "source": "## Partie 3 : Comparaison de génomes\n\nLa même procédure peut être utilisée pour étudier le génome d'un autre coronavirus : le [MERS-CoV](https://www.ncbi.nlm.nih.gov/nuccore/NC_019843).\n\nRéutilisez et adaptez le code précédant pour effectuer les étapes suivantes :\n\n1. Lire le fichier `mers-cov.fasta` et extraire la séquence du génome du MERS-Cov.\n2. Afficher la taille du génome et vérifier qu'elle correspond à celle indiquée sur [la page du NCBI](https://www.ncbi.nlm.nih.gov/nuccore/NC_019843).\n3. Calculer le %GC de ce génome.\n4. Afficher la valeur du %GC avec deux chiffres après la virgule, sous la forme :\n```\nLe pourcentage de GC est : xx.xx\n```\n\n(*Respectez scrupuleusement le format d'affichage demandé.*)\n\n### Étape 1",
      "metadata": {}
    },
    {
      "id": "silver-retailer",
      "cell_type": "code",
      "source": "",
      "metadata": {},
      "outputs": [],
      "execution_count": null
    },
    {
      "id": "exempt-electricity",
      "cell_type": "markdown",
      "source": "### Étape 2",
      "metadata": {}
    },
    {
      "id": "theoretical-third",
      "cell_type": "code",
      "source": "",
      "metadata": {},
      "outputs": [],
      "execution_count": null
    },
    {
      "id": "departmental-driving",
      "cell_type": "markdown",
      "source": "### Étape 3",
      "metadata": {}
    },
    {
      "id": "center-dealer",
      "cell_type": "code",
      "source": "",
      "metadata": {},
      "outputs": [],
      "execution_count": null
    },
    {
      "id": "therapeutic-electron",
      "cell_type": "markdown",
      "source": "### Étape 4",
      "metadata": {}
    },
    {
      "id": "another-camcorder",
      "cell_type": "code",
      "source": "",
      "metadata": {},
      "outputs": [],
      "execution_count": null
    },
    {
      "id": "a1d5800c-4fce-4997-b02d-9d8a1e71d28b",
      "cell_type": "markdown",
      "source": "## Partie 4 : Comparaison avec des virus herpes\n\nEn reprenant la procédure pour calculer les pourcentages de GC sur les génomes des SARS-Cov et MERS-Cov, calculez les pourcentages de GC \nsur les deux génomes de virus herpes humain et de baleine beluga.\n\nPour cela, réalisez les 3 étapes suivantes pour le fichier `human_herpesvirus.fasta` (faites les 3 étapes dans la cellule suivante) :\n\n- Lecture de la séquence du virus.\n- Comptage des ATGC et calcul du pourcentage de GC.\n- Affichage du pourcentage de GC avec 2 décimales.",
      "metadata": {}
    },
    {
      "id": "4447756b-2064-49e4-a964-5ce567d87c77",
      "cell_type": "code",
      "source": "",
      "metadata": {
        "trusted": true
      },
      "outputs": [],
      "execution_count": null
    },
    {
      "id": "ef690bd5-bcb0-46b0-a132-3398201496c6",
      "cell_type": "markdown",
      "source": "Et la même chose dans la cellule suivante pour le fichier `belugawhale_herpesvirus.fasta` :",
      "metadata": {}
    },
    {
      "id": "7241d273-9bc6-4874-be41-835d10861242",
      "cell_type": "code",
      "source": "",
      "metadata": {
        "trusted": true
      },
      "outputs": [],
      "execution_count": null
    },
    {
      "id": "f963c454-4ad7-4b15-954e-ba573e596d59",
      "cell_type": "markdown",
      "source": "Avec les valeurs de pourcentage de GC sur les 4 virus, arrivez-vous à les regrouper par famille ?",
      "metadata": {}
    },
    {
      "id": "4e7b3ff9-c8f5-42ec-91f6-6fa9ab011ffc",
      "cell_type": "markdown",
      "source": "*Double-cliquez sur cette cellule pour répondre à la question*.",
      "metadata": {}
    },
    {
      "id": "88d47213-8009-45ff-bc0f-f7d4142ffef1",
      "cell_type": "markdown",
      "source": "## Pour terminer avec un peu d'humour\n\n![](https://imgs.xkcd.com/comics/coronavirus_genome.png)\n\nSource : [XKCD](https://xkcd.com/2298/), licence Creative Commons BY-NC",
      "metadata": {}
    }
  ]
}
