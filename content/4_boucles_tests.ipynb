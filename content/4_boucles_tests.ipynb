{
 "cells": [
  {
   "cell_type": "markdown",
   "id": "satisfactory-links",
   "metadata": {},
   "source": [
    "# Boucles\n",
    "\n",
    "https://python.sdv.univ-paris-diderot.fr/05_boucles_comparaisons/\n",
    "\n",
    "Répéter des actions\n",
    "\n",
    "## Itération sur les éléments d'une liste\n",
    "\n",
    "Voici les ingrédients que j'ai dans mon placard :"
   ]
  },
  {
   "cell_type": "code",
   "execution_count": null,
   "id": "above-flooring",
   "metadata": {},
   "outputs": [],
   "source": [
    "placard = [\"farine\", \"oeufs\",  \"sucre\", \"lait\"]"
   ]
  },
  {
   "cell_type": "markdown",
   "id": "98a1d6e6-ce73-4d8f-b29a-a6bf6ae2d02e",
   "metadata": {},
   "source": [
    "Pour afficher, les uns après les autres, les ingrédients de mon placard, nous pourrions écrire :"
   ]
  },
  {
   "cell_type": "code",
   "execution_count": null,
   "id": "de521eca-ce4b-4ad8-8626-6a727a7d2dd7",
   "metadata": {},
   "outputs": [],
   "source": [
    "print(placard[0])\n",
    "print(placard[1])\n",
    "print(placard[2])\n",
    "print(placard[3])"
   ]
  },
  {
   "cell_type": "markdown",
   "id": "32365987-de3f-4383-ac8e-204c92754e7d",
   "metadata": {},
   "source": [
    "Cette méthode est répétitive et serait très pénible si la liste `placard` contenait 10, 100, 1000 éléments.\n",
    "\n",
    "Les boucles ont justement été créées pour automatiser une action (ici afficher chacun des éléments d'une liste) :"
   ]
  },
  {
   "cell_type": "code",
   "execution_count": null,
   "id": "7d155e29-bd1f-49cb-a931-3184db8f57c8",
   "metadata": {},
   "outputs": [],
   "source": [
    "for ingredient in placard:\n",
    "    print(ingredient)"
   ]
  },
  {
   "cell_type": "markdown",
   "id": "frozen-winner",
   "metadata": {},
   "source": [
    "Remarques :\n",
    "\n",
    "- La variable *ingredient* est appelée *variable d'itération* et change de valeur à chaque itération (à chaque répétition) de la boucle.\n",
    "- La ligne débutant par `for` se termine toujours par `:`\n",
    "- Le bloc d'instructions `print(ingredient)` est indenté, c'est-à-dire qu'il est décalé vers la droite de quatre espaces."
   ]
  },
  {
   "cell_type": "markdown",
   "id": "6565e533-f8b2-49d6-adbf-a02474a7224c",
   "metadata": {},
   "source": [
    "Un bloc d'instructions peut contenir plusieurs lignes :"
   ]
  },
  {
   "cell_type": "code",
   "execution_count": null,
   "id": "engaged-financing",
   "metadata": {},
   "outputs": [],
   "source": [
    "placard = [\"farine\", \"oeufs\",  \"sucre\", \"lait\"]\n",
    "\n",
    "for ingredient in placard:\n",
    "    print(\"J'ajoute un ingrédient :\")\n",
    "    print(ingredient)\n",
    "print(\"La pâte à crêpes est prête !\")"
   ]
  },
  {
   "cell_type": "markdown",
   "id": "chronic-dimension",
   "metadata": {},
   "source": [
    "Ici, le bloc d'instructions de la boucle `for` est composé de deux instructions :\n",
    "```\n",
    "print(\"J'ajoute un ingrédient :\")\n",
    "print(ingredient)\n",
    "```\n",
    "\n",
    "L'instruction `print(\"La pâte à crêpes est prête !\")` est en dehors du bloc d'instructions de la boucle. Elle est donc exécutée après la boucle."
   ]
  },
  {
   "cell_type": "markdown",
   "id": "d5562e71-f601-463b-ac19-62fdc427dccc",
   "metadata": {
    "execution": {
     "iopub.execute_input": "2024-03-24T21:22:20.098127Z",
     "iopub.status.busy": "2024-03-24T21:22:20.097572Z",
     "iopub.status.idle": "2024-03-24T21:22:20.103856Z",
     "shell.execute_reply": "2024-03-24T21:22:20.103038Z",
     "shell.execute_reply.started": "2024-03-24T21:22:20.098081Z"
    }
   },
   "source": [
    "## Exercice\n",
    "\n",
    "- Reprenez la cellule de code précédente et ajoutez un ingrédient (par exemple de la vanille) dans la liste `placard`.\n",
    "- Relancez la boucle pour afficher les différents ingrédients."
   ]
  },
  {
   "cell_type": "code",
   "execution_count": null,
   "id": "29a31ea2-07e6-4980-8831-0c2037bc0bae",
   "metadata": {},
   "outputs": [],
   "source": []
  },
  {
   "cell_type": "code",
   "execution_count": null,
   "id": "5c4d9807-1a59-4d82-ab9a-2682d04b46a2",
   "metadata": {},
   "outputs": [],
   "source": []
  },
  {
   "cell_type": "markdown",
   "id": "constant-constitutional",
   "metadata": {},
   "source": [
    "## Itération sur les caractères d'une chaîne de caractères\n",
    "\n",
    "Souvenez-vous, une chaîne de caractères fonctionne *presque* comme une liste.\n",
    "\n",
    "On peut parcourir chaque caractère les uns après les autres."
   ]
  },
  {
   "cell_type": "code",
   "execution_count": null,
   "id": "thrown-louisville",
   "metadata": {},
   "outputs": [],
   "source": [
    "sequence = \"ATCG\"\n",
    "\n",
    "for base in sequence:\n",
    "    print(base)"
   ]
  },
  {
   "cell_type": "code",
   "execution_count": null,
   "id": "motivated-teaching",
   "metadata": {},
   "outputs": [],
   "source": [
    "sequence = \"ATCG\"\n",
    "\n",
    "for base in sequence:\n",
    "    print(f\"La base est : {base}\")"
   ]
  },
  {
   "cell_type": "markdown",
   "id": "valued-sucking",
   "metadata": {},
   "source": [
    "# Tests\n",
    "\n",
    "https://python.sdv.univ-paris-diderot.fr/06_tests/\n",
    "\n",
    "Prendre des décisions"
   ]
  },
  {
   "cell_type": "code",
   "execution_count": null,
   "id": "73e56651-ce31-42fb-b5af-dc74c21971b2",
   "metadata": {},
   "outputs": [],
   "source": [
    "nombre = 2"
   ]
  },
  {
   "cell_type": "code",
   "execution_count": null,
   "id": "disabled-utilization",
   "metadata": {},
   "outputs": [],
   "source": [
    "if nombre == 2:\n",
    "    print(\"Gagné !\")"
   ]
  },
  {
   "cell_type": "markdown",
   "id": "selective-shipping",
   "metadata": {},
   "source": [
    "Remarques :\n",
    "\n",
    "- La ligne débutant par  `if` se termine toujours par `:`\n",
    "- `==` (deux fois le symbole `=`) est un opérateur de comparaison d'égalité. On vérifie si `nombre` est égale à `2`. Ne confondez par cet opérateur d'égalité avec l'opérateur d'affectation `=` qui permet de donner une valeur à une variable.\n",
    "- Un bloc d'instructions suit la ligne contenant `if` et est indenté, c'est-à-dire qu'il est décalé vers la droite de quatre espaces."
   ]
  },
  {
   "cell_type": "markdown",
   "id": "handmade-prefix",
   "metadata": {},
   "source": [
    "## Tests à deux cas"
   ]
  },
  {
   "cell_type": "code",
   "execution_count": null,
   "id": "disabled-constitutional",
   "metadata": {},
   "outputs": [],
   "source": [
    "nombre = 2\n",
    "\n",
    "if nombre == 2:\n",
    "    print(\"Gagné !\")\n",
    "else:\n",
    "    print(\"Perdu !\")"
   ]
  },
  {
   "cell_type": "markdown",
   "id": "moral-effort",
   "metadata": {
    "tags": []
   },
   "source": [
    "Remarques :\n",
    "\n",
    "- `:` après `if` et `else`\n",
    "- Un bloc d'instructions (indenté) après `if`\n",
    "- Un bloc d'instructions (indenté) après `else`"
   ]
  },
  {
   "cell_type": "markdown",
   "id": "presidential-adolescent",
   "metadata": {},
   "source": [
    "## Tests à plusieurs cas"
   ]
  },
  {
   "cell_type": "code",
   "execution_count": null,
   "id": "confident-margin",
   "metadata": {},
   "outputs": [],
   "source": [
    "base = \"T\""
   ]
  },
  {
   "cell_type": "code",
   "execution_count": null,
   "id": "expensive-emergency",
   "metadata": {},
   "outputs": [],
   "source": [
    "if base == \"A\":\n",
    "    print(\"Choix d'une adénine\")\n",
    "elif base == \"T\":\n",
    "    print(\"Choix d'une thymine\")\n",
    "elif base == \"C\":\n",
    "    print(\"Choix d'une cytosine\")\n",
    "elif base == \"G\":\n",
    "    print(\"Choix d'une guanine\")"
   ]
  },
  {
   "cell_type": "markdown",
   "id": "determined-finder",
   "metadata": {},
   "source": [
    "On peut également définir un cas « par défaut » avec `else` :"
   ]
  },
  {
   "cell_type": "code",
   "execution_count": null,
   "id": "specific-novel",
   "metadata": {},
   "outputs": [],
   "source": [
    "base = \"P\"\n",
    "\n",
    "if base == \"A\":\n",
    "    print(\"Choix d'une adénine\")\n",
    "elif base == \"T\":\n",
    "    print(\"Choix d'une thymine\")\n",
    "elif base == \"C\":\n",
    "    print(\"Choix d'une cytosine\")\n",
    "elif base == \"G\":\n",
    "    print(\"Choix d'une guanine\")\n",
    "else:\n",
    "    print(\"Révise ta biologie !\")"
   ]
  },
  {
   "cell_type": "markdown",
   "id": "international-metallic",
   "metadata": {},
   "source": [
    "# Boucle + tests = automatisation = 🚀"
   ]
  },
  {
   "cell_type": "code",
   "execution_count": null,
   "id": "fourth-tulsa",
   "metadata": {},
   "outputs": [],
   "source": [
    "sequence = \"ATTGCGCA\"\n",
    "\n",
    "for base in sequence:\n",
    "    if base == \"A\":\n",
    "        print(\"La base est une adénine\")\n",
    "    elif base == \"T\":\n",
    "        print(\"La base est une thymine\")\n",
    "    elif base == \"C\":\n",
    "        print(\"La base est une cytosine\")\n",
    "    elif base == \"G\":\n",
    "        print(\"La base est une guanine\")"
   ]
  },
  {
   "cell_type": "markdown",
   "id": "center-bennett",
   "metadata": {},
   "source": [
    "Remarques :\n",
    "\n",
    "- Le premier niveau d'indentation concerne la boucle `for`.\n",
    "- Le second niveau d'indentation concerne les tests (`if` et `elif`)."
   ]
  },
  {
   "cell_type": "markdown",
   "id": "reliable-distributor",
   "metadata": {},
   "source": [
    "## Attention à l'indentation !\n",
    "\n",
    "Observez avec attention les exemples de code ci-dessous et essayez de comprendre ce qui se passe pour la dernière ligne."
   ]
  },
  {
   "cell_type": "code",
   "execution_count": null,
   "id": "suburban-offset",
   "metadata": {},
   "outputs": [],
   "source": [
    "nombres = [4, 5, 6]\n",
    "\n",
    "for nb in nombres:\n",
    "    if nb == 5:\n",
    "        print(\"Le test est vrai\")\n",
    "        print(f\"car la variable nb vaut {nb}\")"
   ]
  },
  {
   "cell_type": "code",
   "execution_count": null,
   "id": "amber-sperm",
   "metadata": {},
   "outputs": [],
   "source": [
    "nombres = [4, 5, 6]\n",
    "\n",
    "for nb in nombres:\n",
    "    if nb == 5:\n",
    "        print(\"Le test est vrai\")\n",
    "    print(f\"car la variable nb vaut {nb}\")"
   ]
  },
  {
   "cell_type": "markdown",
   "id": "subjective-hardware",
   "metadata": {},
   "source": [
    "# Exercices"
   ]
  },
  {
   "cell_type": "markdown",
   "id": "annual-concord",
   "metadata": {},
   "source": [
    "## Notes d'un étudiant\n",
    "\n",
    "Voici les notes d'un étudiant :\n"
   ]
  },
  {
   "cell_type": "code",
   "execution_count": null,
   "id": "criminal-planner",
   "metadata": {},
   "outputs": [],
   "source": [
    "notes = [14, 9, 6, 8, 12]"
   ]
  },
  {
   "cell_type": "markdown",
   "id": "924bb955-b83c-4caf-bad7-56aec0887827",
   "metadata": {},
   "source": [
    "Affichez, une par une, les notes de l'étudiant.\n",
    "\n",
    "Pour cela, complétez le code suivant en remplaçant les 🐭 et 🐱 par les noms de variable adéquates :"
   ]
  },
  {
   "cell_type": "code",
   "execution_count": null,
   "id": "3937cb36-f652-4f7c-9b4d-c123cbe5529a",
   "metadata": {},
   "outputs": [],
   "source": [
    "for 🐭 in 🐱:\n",
    "    print(🐭)"
   ]
  },
  {
   "cell_type": "markdown",
   "id": "furnished-adjustment",
   "metadata": {},
   "source": [
    "Calculez maintenant la moyenne de ses notes. Pour cela :\n",
    "- Créez une variable `somme` qui prendra comme valeur initiale 0.\n",
    "- Puis avec une boucle, ajoutez à `somme` les notes successives (d'abord la première, puis la deuxième...).\n",
    "- Enfin, en dehors de la boucle, calculez la moyenne.\n",
    "\n",
    "Un modèle de code vous est fourni ci-dessous. Complétez-le en remplaçant les ❌, 🐭, 🐱 et 🗃️ par les valeurs et noms de variable adéquates :"
   ]
  },
  {
   "cell_type": "code",
   "execution_count": null,
   "id": "stylish-glenn",
   "metadata": {},
   "outputs": [],
   "source": [
    "somme = ❌\n",
    "\n",
    "for 🐭 in 🐱:\n",
    "    somme = somme + 🐭 \n",
    "\n",
    "moyenne = 🗃️ / len(🐱)"
   ]
  },
  {
   "cell_type": "markdown",
   "id": "suited-power",
   "metadata": {},
   "source": [
    "Utilisez l'écriture formatée pour afficher la valeur de la moyenne calculée avec deux décimales :"
   ]
  },
  {
   "cell_type": "code",
   "execution_count": null,
   "id": "bacterial-regular",
   "metadata": {},
   "outputs": [],
   "source": []
  }
 ],
 "metadata": {
  "kernelspec": {
   "display_name": "Python 3 (ipykernel)",
   "language": "python",
   "name": "python3"
  },
  "language_info": {
   "codemirror_mode": {
    "name": "ipython",
    "version": 3
   },
   "file_extension": ".py",
   "mimetype": "text/x-python",
   "name": "python",
   "nbconvert_exporter": "python",
   "pygments_lexer": "ipython3",
   "version": "3.11.8"
  },
  "toc-autonumbering": false,
  "toc-showcode": false,
  "toc-showmarkdowntxt": false
 },
 "nbformat": 4,
 "nbformat_minor": 5
}
