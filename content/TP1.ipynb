{
 "cells": [
  {
   "cell_type": "markdown",
   "id": "earlier-reunion",
   "metadata": {},
   "source": [
    "# TP 1\n",
    "\n",
    "*Renommez ce notebook en y ajoutant vos initiales (par exemple `TP1_PP.ipynb`), **sans espace**, et pensez à le sauvegarder régulièrement !*\n",
    "\n",
    "***N’ajoutez pas et ne supprimez aucune cellule.***\n",
    "\n",
    "*Renseignez ci-dessous vos prénoms et noms (double-cliquez pour éditer la cellule).*\n",
    "\n",
    "---\n",
    "\n",
    "Prénom : \n",
    "\n",
    "Nom : \n",
    "\n",
    "---"
   ]
  },
  {
   "cell_type": "markdown",
   "id": "black-south",
   "metadata": {},
   "source": [
    "## Partie 1 : Calcul du %GC\n",
    "\n",
    "Déterminez le %GC pour les séquences suivantes :\n",
    "\n",
    "1. `AATTTGGGCCCATTACATAC`\n",
    "2. `GCGAGGAAGATGTAGGCCGG`\n",
    "\n",
    "Affichez la valeur du %GC avec un chiffre après la virgule, sous la forme :\n",
    "```\n",
    "Le pourcentage de GC vaut : xx.x\n",
    "```\n",
    "\n",
    "Pour cela, pour chaque séquence :\n",
    "- Comptez (manuellement) le nombre de bases A, T, C et G.\n",
    "- Créez quatre variables pour stocker ces quatre valeurs.\n",
    "- Calculez le %GC et stockez le résultat dans une autre variable.\n",
    "- Affichez le %GC avec la fonction `print()` et l'écriture formatée.\n",
    "\n",
    "À chaque étape, comparez vos résultats avec vos voisins."
   ]
  },
  {
   "cell_type": "markdown",
   "id": "fifth-state",
   "metadata": {},
   "source": [
    "### Séquence 1\n",
    "\n",
    "La séquence à analyser est :\n",
    "\n",
    "`AATTTGGGCCCATTACATAC`\n",
    "\n",
    "Stockez le nombre des différentes bases dans les variables `nb_A_1`, `nb_T_1`, `nb_C_1` et `nb_G_1` :\n",
    "\n",
    "(*Remplaçez les `...` par le nombre de bases correspondantes.*)"
   ]
  },
  {
   "cell_type": "code",
   "execution_count": null,
   "id": "finnish-brave",
   "metadata": {},
   "outputs": [],
   "source": [
    "nb_A_1 = ...\n",
    "nb_T_1 = ...\n",
    "nb_C_1 = ...\n",
    "nb_G_1 = ..."
   ]
  },
  {
   "cell_type": "markdown",
   "id": "contained-europe",
   "metadata": {},
   "source": [
    "Calculez le %GC et stockez-le dans la variable `GC_1` :\n",
    "\n",
    "(*Réutilisez la formule vue dans le notebook `GC_content.ipynb` en adaptant les noms des variables.*)"
   ]
  },
  {
   "cell_type": "code",
   "execution_count": null,
   "id": "furnished-soundtrack",
   "metadata": {},
   "outputs": [],
   "source": []
  },
  {
   "cell_type": "markdown",
   "id": "stylish-external",
   "metadata": {},
   "source": [
    "Affichez le %GC en respectant le format indiqué plus haut :"
   ]
  },
  {
   "cell_type": "code",
   "execution_count": null,
   "id": "effective-government",
   "metadata": {},
   "outputs": [],
   "source": []
  },
  {
   "cell_type": "markdown",
   "id": "hispanic-congo",
   "metadata": {},
   "source": [
    "### Séquence 2\n",
    "\n",
    "La nouvelle séquence à analyser est :\n",
    "\n",
    "`GCGAGGAAGATGTAGGCCGG`\n",
    "\n",
    "Stockez le nombre de bases dans les variables `nb_A_2`, `nb_T_2`, `nb_C_2` et `nb_G_2` :\n",
    "\n",
    "(*Remplaçez les `...` par le nombre de bases correspondantes.*)"
   ]
  },
  {
   "cell_type": "code",
   "execution_count": null,
   "id": "little-virus",
   "metadata": {},
   "outputs": [],
   "source": [
    "nb_A_2 = ...\n",
    "nb_T_2 = ...\n",
    "nb_C_2 = ...\n",
    "nb_G_2 = ..."
   ]
  },
  {
   "cell_type": "markdown",
   "id": "intensive-algeria",
   "metadata": {},
   "source": [
    "Calculez le %GC et stockez-le dans la variable `GC_2` :"
   ]
  },
  {
   "cell_type": "code",
   "execution_count": null,
   "id": "interior-version",
   "metadata": {},
   "outputs": [],
   "source": []
  },
  {
   "cell_type": "markdown",
   "id": "frank-sphere",
   "metadata": {},
   "source": [
    "Affichez le %GC en respectant le format indiqué plus haut :"
   ]
  },
  {
   "cell_type": "code",
   "execution_count": null,
   "id": "massive-conflict",
   "metadata": {},
   "outputs": [],
   "source": []
  },
  {
   "cell_type": "markdown",
   "id": "twelve-joseph",
   "metadata": {},
   "source": [
    "## Partie 2 : Calcul de la température de fusion\n",
    "\n",
    "À partir du %GC, déterminez la température de fusion des deux séquences précédentes.\n",
    "\n",
    "Affichez la température de fusion avec deux chiffres après la virgule, sous la forme :\n",
    "```\n",
    "La température de fusion vaut : yy.yy °C\n",
    "```\n",
    "\n",
    "Pour cela, pour chaque séquence :\n",
    "\n",
    "- Reprenez les variables précédentes qui contienent le nombre de bases A, T, C et G, ainsi que le %GC.\n",
    "- Calculez *Tm* et stockez le résultat dans une nouvelle variable.\n",
    "- Affichez la température de fusion avec la fonction `print()` et l'écriture formatée.\n",
    "\n",
    "À chaque étape, comparez vos résultats avec vos voisins."
   ]
  },
  {
   "cell_type": "markdown",
   "id": "substantial-hawaii",
   "metadata": {},
   "source": [
    "### Séquence 1\n",
    "\n",
    "Calculez la température de fusion `Tm_1` à partir des variables `nb_A_1`, `nb_T_1`, `nb_C_1`, `nb_G_1` et `GC_1` :\n",
    "\n",
    "(*Réutilisez la formule vue dans le notebook `GC_content.ipynb` en adaptant les noms des variables.*)"
   ]
  },
  {
   "cell_type": "code",
   "execution_count": null,
   "id": "abstract-thesaurus",
   "metadata": {},
   "outputs": [],
   "source": []
  },
  {
   "cell_type": "markdown",
   "id": "worthy-forest",
   "metadata": {},
   "source": [
    "Affichez la température de fusion en respectant le format indiqué précédemment :"
   ]
  },
  {
   "cell_type": "code",
   "execution_count": null,
   "id": "metric-workstation",
   "metadata": {},
   "outputs": [],
   "source": []
  },
  {
   "cell_type": "markdown",
   "id": "democratic-helmet",
   "metadata": {},
   "source": [
    "### Séquence 2\n",
    "\n",
    "Calculez la température de fusion `Tm_2` à partir des variables `nb_A_2`, `nb_T_2`, `nb_C_2`, `nb_G_2` et `GC_2` :"
   ]
  },
  {
   "cell_type": "code",
   "execution_count": null,
   "id": "particular-skiing",
   "metadata": {},
   "outputs": [],
   "source": []
  },
  {
   "cell_type": "markdown",
   "id": "ambient-differential",
   "metadata": {},
   "source": [
    "Affichez la température de fusion en respectant le format indiqué précédemment :"
   ]
  },
  {
   "cell_type": "code",
   "execution_count": null,
   "id": "turkish-kitty",
   "metadata": {},
   "outputs": [],
   "source": []
  },
  {
   "cell_type": "markdown",
   "id": "careful-bottom",
   "metadata": {},
   "source": [
    "## Partie 3 : Automatisation du calcul du %GC\n",
    "\n",
    "En utilisant une boucle `for` et des tests `if` et `elif`, calculez les %GC de la séquence suivante :\n",
    "\n",
    "`TAGATCCTTGGGTCCATTTGACGTAGTCTATGACG`\n",
    "\n",
    "Affichez la valeur du %GC avec un chiffre après la virgule, sous la forme :\n",
    "```\n",
    "Le pourcentage de GC vaut : xx.x\n",
    "```"
   ]
  },
  {
   "cell_type": "code",
   "execution_count": null,
   "id": "durable-simulation",
   "metadata": {},
   "outputs": [],
   "source": [
    "sequence = \"TAGATCCTTGGGTCCATTTGACGTAGTCTATGACG\""
   ]
  },
  {
   "cell_type": "markdown",
   "id": "paperback-mother",
   "metadata": {},
   "source": [
    "**Comptez automatiquement** le nombre de bases avec une boucle `for` et des tests `if` et `elif`.\n",
    "\n",
    "Stockez le nombre de bases dans les variables `nb_A`, `nb_T`, `nb_C` et `nb_G`."
   ]
  },
  {
   "cell_type": "code",
   "execution_count": null,
   "id": "eligible-ordering",
   "metadata": {},
   "outputs": [],
   "source": []
  },
  {
   "cell_type": "markdown",
   "id": "minute-somalia",
   "metadata": {},
   "source": [
    "Calculez le %GC et stockez-le dans la variable `GC` :"
   ]
  },
  {
   "cell_type": "code",
   "execution_count": null,
   "id": "timely-handle",
   "metadata": {},
   "outputs": [],
   "source": []
  },
  {
   "cell_type": "markdown",
   "id": "opponent-thousand",
   "metadata": {},
   "source": [
    "Affichez le %GC en respectant le format indiqué plus haut :"
   ]
  },
  {
   "cell_type": "code",
   "execution_count": null,
   "id": "coated-quality",
   "metadata": {},
   "outputs": [],
   "source": []
  },
  {
   "cell_type": "markdown",
   "id": "minor-concentration",
   "metadata": {},
   "source": [
    "## Partie 4 : Automatisation du calcul de la Tm\n",
    "\n",
    "À partir du %GC, déterminez la température de fusion de la séquence précédente.\n",
    "\n",
    "Affichez la température de fusion avec deux chiffres après la virgule, sous la forme :\n",
    "```\n",
    "La température de fusion vaut : yy.yy °C\n",
    "```"
   ]
  },
  {
   "cell_type": "markdown",
   "id": "nuclear-gamma",
   "metadata": {},
   "source": [
    "Calculez la température de fusion `Tm` à partir des variables `nb_A`, `nb_T`, `nb_C`, `nb_G` et `GC` :"
   ]
  },
  {
   "cell_type": "code",
   "execution_count": null,
   "id": "palestinian-operator",
   "metadata": {},
   "outputs": [],
   "source": []
  },
  {
   "cell_type": "markdown",
   "id": "hundred-spiritual",
   "metadata": {},
   "source": [
    "Affichez la température de fusion en respectant le format indiqué précédemment :"
   ]
  },
  {
   "cell_type": "code",
   "execution_count": null,
   "id": "plain-reform",
   "metadata": {},
   "outputs": [],
   "source": []
  }
 ],
 "metadata": {
  "kernelspec": {
   "display_name": "Python 3 (ipykernel)",
   "language": "python",
   "name": "python3"
  },
  "language_info": {
   "codemirror_mode": {
    "name": "ipython",
    "version": 3
   },
   "file_extension": ".py",
   "mimetype": "text/x-python",
   "name": "python",
   "nbconvert_exporter": "python",
   "pygments_lexer": "ipython3",
   "version": "3.11.8"
  }
 },
 "nbformat": 4,
 "nbformat_minor": 5
}
