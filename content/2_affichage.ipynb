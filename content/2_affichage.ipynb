{
 "cells": [
  {
   "cell_type": "markdown",
   "id": "celtic-courage",
   "metadata": {},
   "source": [
    "# Affichage\n",
    "\n",
    "https://python.sdv.univ-paris-diderot.fr/03_affichage/\n",
    "\n",
    "La fonction `print()`"
   ]
  },
  {
   "cell_type": "code",
   "execution_count": null,
   "id": "early-plumbing",
   "metadata": {},
   "outputs": [],
   "source": [
    "print(\"Salut Python\")"
   ]
  },
  {
   "cell_type": "code",
   "execution_count": null,
   "id": "ecological-hammer",
   "metadata": {},
   "outputs": [],
   "source": [
    "print(42)"
   ]
  },
  {
   "cell_type": "code",
   "execution_count": null,
   "id": "familiar-legislation",
   "metadata": {},
   "outputs": [],
   "source": [
    "nombre = 3.14"
   ]
  },
  {
   "cell_type": "code",
   "execution_count": null,
   "id": "extra-universal",
   "metadata": {},
   "outputs": [],
   "source": [
    "print(nombre)"
   ]
  },
  {
   "cell_type": "markdown",
   "id": "internal-malpractice",
   "metadata": {},
   "source": [
    "Avec plusieurs arguments :"
   ]
  },
  {
   "cell_type": "code",
   "execution_count": null,
   "id": "personal-memorial",
   "metadata": {},
   "outputs": [],
   "source": [
    "name = \"Jean\" \n",
    "age = 20"
   ]
  },
  {
   "cell_type": "code",
   "execution_count": null,
   "id": "straight-demonstration",
   "metadata": {},
   "outputs": [],
   "source": [
    "print(name)\n",
    "print(age)"
   ]
  },
  {
   "cell_type": "code",
   "execution_count": null,
   "id": "alternative-annual",
   "metadata": {},
   "outputs": [],
   "source": [
    "print(name, age)"
   ]
  },
  {
   "cell_type": "code",
   "execution_count": null,
   "id": "adolescent-richards",
   "metadata": {},
   "outputs": [],
   "source": [
    "print(name, \"a\", age, \"ans\")"
   ]
  },
  {
   "cell_type": "code",
   "execution_count": null,
   "id": "social-tobacco",
   "metadata": {},
   "outputs": [],
   "source": []
  },
  {
   "cell_type": "markdown",
   "id": "common-billy",
   "metadata": {},
   "source": [
    "## Écriture formatée (*f-strings*)"
   ]
  },
  {
   "cell_type": "code",
   "execution_count": null,
   "id": "portuguese-large",
   "metadata": {},
   "outputs": [],
   "source": [
    "print(f\"{name} a {age} ans\")"
   ]
  },
  {
   "cell_type": "code",
   "execution_count": null,
   "id": "attended-athens",
   "metadata": {},
   "outputs": [],
   "source": []
  },
  {
   "cell_type": "markdown",
   "id": "sensitive-elizabeth",
   "metadata": {},
   "source": [
    "### Contrôler l'affichage du nombre de chiffres après la virgule"
   ]
  },
  {
   "cell_type": "code",
   "execution_count": 1,
   "id": "hollywood-current",
   "metadata": {
    "execution": {
     "iopub.execute_input": "2024-03-17T20:52:28.058507Z",
     "iopub.status.busy": "2024-03-17T20:52:28.057986Z",
     "iopub.status.idle": "2024-03-17T20:52:28.069665Z",
     "shell.execute_reply": "2024-03-17T20:52:28.068781Z",
     "shell.execute_reply.started": "2024-03-17T20:52:28.058436Z"
    }
   },
   "outputs": [
    {
     "name": "stdout",
     "output_type": "stream",
     "text": [
      "34.78797837059809\n"
     ]
    }
   ],
   "source": [
    "i = 34.7879783705980890\n",
    "print(i)"
   ]
  },
  {
   "cell_type": "markdown",
   "id": "25c9ed49-0c66-4a94-9fe1-d5b9597bed01",
   "metadata": {},
   "source": [
    "Avec un seul chiffre après la virgule :"
   ]
  },
  {
   "cell_type": "code",
   "execution_count": 4,
   "id": "67e00092-ab9b-4999-96a8-5fde86d6bc7c",
   "metadata": {
    "execution": {
     "iopub.execute_input": "2024-03-17T20:53:09.819312Z",
     "iopub.status.busy": "2024-03-17T20:53:09.818940Z",
     "iopub.status.idle": "2024-03-17T20:53:09.823409Z",
     "shell.execute_reply": "2024-03-17T20:53:09.822644Z",
     "shell.execute_reply.started": "2024-03-17T20:53:09.819280Z"
    }
   },
   "outputs": [
    {
     "name": "stdout",
     "output_type": "stream",
     "text": [
      "34.8\n"
     ]
    }
   ],
   "source": [
    "print(f\"{i:.1f}\")"
   ]
  },
  {
   "cell_type": "markdown",
   "id": "prostate-works",
   "metadata": {},
   "source": [
    "Avec deux chiffres après la virgule :"
   ]
  },
  {
   "cell_type": "code",
   "execution_count": 5,
   "id": "convenient-differential",
   "metadata": {
    "execution": {
     "iopub.execute_input": "2024-03-17T20:53:14.783597Z",
     "iopub.status.busy": "2024-03-17T20:53:14.782901Z",
     "iopub.status.idle": "2024-03-17T20:53:14.793801Z",
     "shell.execute_reply": "2024-03-17T20:53:14.791204Z",
     "shell.execute_reply.started": "2024-03-17T20:53:14.783536Z"
    }
   },
   "outputs": [
    {
     "name": "stdout",
     "output_type": "stream",
     "text": [
      "34.79\n"
     ]
    }
   ],
   "source": [
    "print(f\"{i:.2f}\")"
   ]
  },
  {
   "cell_type": "markdown",
   "id": "cutting-beast",
   "metadata": {},
   "source": [
    "Avec trois chiffres après la virgule :"
   ]
  },
  {
   "cell_type": "code",
   "execution_count": 6,
   "id": "hired-symphony",
   "metadata": {
    "execution": {
     "iopub.execute_input": "2024-03-17T20:53:16.942848Z",
     "iopub.status.busy": "2024-03-17T20:53:16.942003Z",
     "iopub.status.idle": "2024-03-17T20:53:16.954507Z",
     "shell.execute_reply": "2024-03-17T20:53:16.951885Z",
     "shell.execute_reply.started": "2024-03-17T20:53:16.942782Z"
    }
   },
   "outputs": [
    {
     "name": "stdout",
     "output_type": "stream",
     "text": [
      "34.788\n"
     ]
    }
   ],
   "source": [
    "print(f\"{i:.3f}\")"
   ]
  },
  {
   "cell_type": "code",
   "execution_count": null,
   "id": "african-intermediate",
   "metadata": {},
   "outputs": [],
   "source": []
  },
  {
   "cell_type": "markdown",
   "id": "sustained-packing",
   "metadata": {},
   "source": [
    "### Contrôler l'alignement et la taille"
   ]
  },
  {
   "cell_type": "code",
   "execution_count": 10,
   "id": "classified-madrid",
   "metadata": {
    "execution": {
     "iopub.execute_input": "2024-03-17T20:53:50.973372Z",
     "iopub.status.busy": "2024-03-17T20:53:50.972662Z",
     "iopub.status.idle": "2024-03-17T20:53:50.981746Z",
     "shell.execute_reply": "2024-03-17T20:53:50.980387Z",
     "shell.execute_reply.started": "2024-03-17T20:53:50.973311Z"
    }
   },
   "outputs": [
    {
     "name": "stdout",
     "output_type": "stream",
     "text": [
      "i vaut =    34.788\n"
     ]
    }
   ],
   "source": [
    "print(f\"i ={i:10.3f}\")"
   ]
  },
  {
   "cell_type": "code",
   "execution_count": 14,
   "id": "handmade-black",
   "metadata": {
    "execution": {
     "iopub.execute_input": "2024-03-17T20:55:05.740527Z",
     "iopub.status.busy": "2024-03-17T20:55:05.739939Z",
     "iopub.status.idle": "2024-03-17T20:55:05.744168Z",
     "shell.execute_reply": "2024-03-17T20:55:05.743439Z",
     "shell.execute_reply.started": "2024-03-17T20:55:05.740507Z"
    }
   },
   "outputs": [
    {
     "name": "stdout",
     "output_type": "stream",
     "text": [
      "i =    34.788\n"
     ]
    }
   ],
   "source": [
    "print(f\"i ={i:>10.3f}\")"
   ]
  },
  {
   "cell_type": "code",
   "execution_count": 15,
   "id": "authorized-hazard",
   "metadata": {
    "execution": {
     "iopub.execute_input": "2024-03-17T20:55:18.433098Z",
     "iopub.status.busy": "2024-03-17T20:55:18.432091Z",
     "iopub.status.idle": "2024-03-17T20:55:18.440889Z",
     "shell.execute_reply": "2024-03-17T20:55:18.439526Z",
     "shell.execute_reply.started": "2024-03-17T20:55:18.433032Z"
    }
   },
   "outputs": [
    {
     "name": "stdout",
     "output_type": "stream",
     "text": [
      "i =34.788    \n"
     ]
    }
   ],
   "source": [
    "print(f\"i ={i:<10.3f}\")"
   ]
  },
  {
   "cell_type": "code",
   "execution_count": 16,
   "id": "first-atmosphere",
   "metadata": {
    "execution": {
     "iopub.execute_input": "2024-03-17T20:55:37.804999Z",
     "iopub.status.busy": "2024-03-17T20:55:37.804262Z",
     "iopub.status.idle": "2024-03-17T20:55:37.813700Z",
     "shell.execute_reply": "2024-03-17T20:55:37.812355Z",
     "shell.execute_reply.started": "2024-03-17T20:55:37.804939Z"
    }
   },
   "outputs": [
    {
     "name": "stdout",
     "output_type": "stream",
     "text": [
      "i =34.788****\n"
     ]
    }
   ],
   "source": [
    "print(f\"i ={i:*<10.3f}\")"
   ]
  },
  {
   "cell_type": "code",
   "execution_count": 18,
   "id": "postal-tactics",
   "metadata": {
    "execution": {
     "iopub.execute_input": "2024-03-17T20:55:59.059798Z",
     "iopub.status.busy": "2024-03-17T20:55:59.059288Z",
     "iopub.status.idle": "2024-03-17T20:55:59.065753Z",
     "shell.execute_reply": "2024-03-17T20:55:59.064358Z",
     "shell.execute_reply.started": "2024-03-17T20:55:59.059758Z"
    }
   },
   "outputs": [
    {
     "name": "stdout",
     "output_type": "stream",
     "text": [
      "i =**34.788**\n"
     ]
    }
   ],
   "source": [
    "print(f\"i ={i:*^10.3f}\")"
   ]
  },
  {
   "cell_type": "code",
   "execution_count": null,
   "id": "velvet-arrest",
   "metadata": {},
   "outputs": [],
   "source": []
  }
 ],
 "metadata": {
  "kernelspec": {
   "display_name": "Python 3 (ipykernel)",
   "language": "python",
   "name": "python3"
  },
  "language_info": {
   "codemirror_mode": {
    "name": "ipython",
    "version": 3
   },
   "file_extension": ".py",
   "mimetype": "text/x-python",
   "name": "python",
   "nbconvert_exporter": "python",
   "pygments_lexer": "ipython3",
   "version": "3.11.8"
  }
 },
 "nbformat": 4,
 "nbformat_minor": 5
}
