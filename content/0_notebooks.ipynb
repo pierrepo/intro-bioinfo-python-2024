{
 "cells": [
  {
   "cell_type": "markdown",
   "id": "afraid-watch",
   "metadata": {},
   "source": [
    "# Introduction aux notebooks Jupyter"
   ]
  },
  {
   "cell_type": "markdown",
   "id": "ideal-baghdad",
   "metadata": {},
   "source": [
    "Les notebooks Jupyter sont des cahiers électroniques d'analyse composés de « cellules ». Il existe deux principaux types de cellules : \n",
    "\n",
    "- Des cellules de code, grisées, avec des `[ ]` sur le côté gauche.\n",
    "- Des cellules de texte au format Markdown, en général sur fond blanc, et qui peuvent contenir du texte, des équations, des images, des tableaux...\n",
    "\n",
    "Entrez l'instruction :\n",
    "\n",
    "```\n",
    "print(\"Salut Python\")\n",
    "```\n",
    "\n",
    "dans la cellule de code grisée ci-dessous. N'oubliez pas les parenthèses et les guillements."
   ]
  },
  {
   "cell_type": "code",
   "execution_count": null,
   "id": "adolescent-rouge",
   "metadata": {},
   "outputs": [],
   "source": []
  },
  {
   "cell_type": "markdown",
   "id": "multiple-measurement",
   "metadata": {},
   "source": [
    "Pressez ensuite les touches <kbd>Shift</kbd> et <kbd>Entrée</kbd> en même temps (<kbd>Shift</kbd>+<kbd>Entrée</kbd>) pour exécuter votre instruction. Le message `Salut Python` devrait s'afficher.\n",
    "\n",
    "\n",
    "Remarque : \n",
    "- La combinaison de touches <kbd>Ctrl</kbd>+<kbd>Entrée</kbd> exécute une cellule puis reste sur la cellule.\n",
    "- La combinaison de touches <kbd>Shift</kbd>+<kbd>Entrée</kbd> exécute une cellule puis passe à la suivante. C'est équivalent à cliquer sur le bouton ▶️ dans la barre de menu en haut du notebook.\n",
    "- La combinaison de touches <kbd>Alt</kbd>+<kbd>Entrée</kbd> exécute une cellule puis en crée une nouvelle (vide) en dessous.\n",
    "\n",
    "Pour ajouter une cellule (par défaut une cellule de code), vous pouvez aussi cliquer sur l'icone ➕ dans la barre de menu du notebook.\n",
    "\n",
    "Pour modifier une cellule au format Markdown, double-cliquez deux fois sur cette cellule. Exécutez ensuite la cellule avec la combinaison de touches <kbd>Shift</kbd>+<kbd>Entrée</kbd>."
   ]
  },
  {
   "cell_type": "markdown",
   "id": "feff9139-796a-421b-a96f-2f2f98f58e88",
   "metadata": {},
   "source": [
    "Entrez maintenant dans la cellule ci-dessous l'instruction `a = 10` puis exécutez-la (en appuyant sur <kbd>Shift</kbd>+<kbd>Entrée</kbd>)."
   ]
  },
  {
   "cell_type": "code",
   "execution_count": null,
   "id": "liberal-position",
   "metadata": {},
   "outputs": [],
   "source": []
  },
  {
   "cell_type": "markdown",
   "id": "superb-detroit",
   "metadata": {},
   "source": [
    "Entrez ensuite dans la cellule ci-dessous l'instruction `b = 3.14` puis exécutez-la."
   ]
  },
  {
   "cell_type": "code",
   "execution_count": null,
   "id": "specified-prince",
   "metadata": {},
   "outputs": [],
   "source": []
  },
  {
   "cell_type": "markdown",
   "id": "accredited-plain",
   "metadata": {},
   "source": [
    "Enfin, entrez dans la cellule ci-dessous l'instruction `print(a + b)` puis exécutez-la."
   ]
  },
  {
   "cell_type": "code",
   "execution_count": null,
   "id": "instructional-distance",
   "metadata": {},
   "outputs": [],
   "source": []
  },
  {
   "cell_type": "markdown",
   "id": "metric-stephen",
   "metadata": {},
   "source": [
    "Une variable définie dans une cellule d'un notebook est visible dans toutes les autres cellules du notebook.\n",
    "\n",
    "Quelques astuces supplémentaires :\n",
    "\n",
    "- Pour enregistrer votre notebook, cliquez sur la petite disquette située à gauche dans la barre de menu en haut de votre notebook. Si vous avez lancé ce notebook depuis une version en ligne de Jupyter, vous pouvez sauver localement votre notebook en cliquant droit sur le nom du notebook (dans l'explorateur de fichiers, à gauche du notebook), puis en cliquant sur *Download*.\n",
    "- Relancez le « noyau » (qui correspond au programme Python, appelé aussi *kernel*) de votre notebook et re-exécutez toutes les cellules du notebook, en cliquant dans le menu sur *Kernel → Restart Kernel and Run All Cells* (ou l'équivalent en français)."
   ]
  },
  {
   "cell_type": "code",
   "execution_count": null,
   "id": "d6b78195-fc01-4c25-b2a3-0eaa470fd8e9",
   "metadata": {},
   "outputs": [],
   "source": []
  }
 ],
 "metadata": {
  "kernelspec": {
   "display_name": "Python 3 (ipykernel)",
   "language": "python",
   "name": "python3"
  },
  "language_info": {
   "codemirror_mode": {
    "name": "ipython",
    "version": 3
   },
   "file_extension": ".py",
   "mimetype": "text/x-python",
   "name": "python",
   "nbconvert_exporter": "python",
   "pygments_lexer": "ipython3",
   "version": "3.11.8"
  }
 },
 "nbformat": 4,
 "nbformat_minor": 5
}
